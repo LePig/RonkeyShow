{
 "metadata": {
  "name": "",
  "signature": "sha256:8c8b4c37b603f6576cd30ac49e8563f439d8181928241a104ca01a09545a7e5d"
 },
 "nbformat": 3,
 "nbformat_minor": 0,
 "worksheets": []
}